{
 "cells": [
  {
   "cell_type": "code",
   "execution_count": 1,
   "metadata": {},
   "outputs": [],
   "source": [
    "import pandas as pd"
   ]
  },
  {
   "cell_type": "code",
   "execution_count": 2,
   "metadata": {},
   "outputs": [
    {
     "name": "stderr",
     "output_type": "stream",
     "text": [
      "/var/folders/59/6bqdd_zs5_zdxml6x4n0v9mm0000gn/T/ipykernel_87856/3061799828.py:1: DtypeWarning: Columns (93,94) have mixed types. Specify dtype option on import or set low_memory=False.\n",
      "  df = pd.read_csv('Cape_July24.csv')\n"
     ]
    }
   ],
   "source": [
    "df = pd.read_csv('Cape_July24.csv')\n"
   ]
  },
  {
   "cell_type": "code",
   "execution_count": 3,
   "metadata": {},
   "outputs": [],
   "source": [
    "pd.set_option('display.max_columns', None)\n",
    "dft = df[['Pitcher','PitcherTeam','RelHeight', 'SpinRate', 'RelSpeed','PitchCall','TaggedPitchType','SpinRate','HorzBreak','InducedVertBreak']]"
   ]
  },
  {
   "cell_type": "code",
   "execution_count": 4,
   "metadata": {},
   "outputs": [
    {
     "data": {
      "text/plain": [
       "array(['FourSeamFastBall', 'Slider', 'Curveball', 'ChangeUp', 'Splitter',\n",
       "       'Sinker', 'Fastball', 'TwoSeamFastBall', 'Cutter', 'Undefined',\n",
       "       'Other', 'Knuckleball', 'OneSeamFastBall'], dtype=object)"
      ]
     },
     "execution_count": 4,
     "metadata": {},
     "output_type": "execute_result"
    }
   ],
   "source": [
    "#pitch type unique values\n",
    "pitch_type = dft['TaggedPitchType'].unique()\n",
    "pitch_type"
   ]
  },
  {
   "cell_type": "code",
   "execution_count": 5,
   "metadata": {},
   "outputs": [],
   "source": [
    "#group all fastballs and sinkers together and name them 'Fastball'\n",
    "dft.loc[dft['TaggedPitchType'].str.contains('Sinker'), 'TaggedPitchType'] = 'Fastball'\n",
    "\n",
    "dft.loc[dft['TaggedPitchType'].str.contains('FastBall'), 'TaggedPitchType'] = 'Fastball'\n",
    "\n",
    "dft.loc[dft['TaggedPitchType'].str.contains('FourSeamFastBall'), 'TaggedPitchType'] = 'Fastball'\n",
    "dft.loc[dft['TaggedPitchType'].str.contains('TwoSeamFastBall'), 'TaggedPitchType'] = 'Fastball'"
   ]
  },
  {
   "cell_type": "code",
   "execution_count": 6,
   "metadata": {},
   "outputs": [
    {
     "name": "stderr",
     "output_type": "stream",
     "text": [
      "/var/folders/59/6bqdd_zs5_zdxml6x4n0v9mm0000gn/T/ipykernel_87856/1700099378.py:2: SettingWithCopyWarning: \n",
      "A value is trying to be set on a copy of a slice from a DataFrame.\n",
      "Try using .loc[row_indexer,col_indexer] = value instead\n",
      "\n",
      "See the caveats in the documentation: https://pandas.pydata.org/pandas-docs/stable/user_guide/indexing.html#returning-a-view-versus-a-copy\n",
      "  dft['Whiff'] = dft['PitchCall'].apply(lambda x: 1 if x == 'StrikeSwinging' else 0)\n"
     ]
    }
   ],
   "source": [
    "#create a new column with a value of 1 if the pitch was a whiff, and 0 if it was not\n",
    "dft['Whiff'] = dft['PitchCall'].apply(lambda x: 1 if x == 'StrikeSwinging' else 0)\n",
    "#group by pitcher and pitch type, and sum the number of whiffs\n",
    "whiffs = dft.groupby(['Pitcher','TaggedPitchType'])['Whiff'].sum()\n",
    "#Count called strikes\n",
    "called = dft[dft['PitchCall'] == 'StrikeCalled'].groupby(['Pitcher','TaggedPitchType']).size()\n",
    "#count the total number of pitches thrown\n",
    "total_pitches = dft.groupby(['Pitcher','TaggedPitchType']).size()\n",
    "#group by pitcher and pitch type, and count the total number of swings\n",
    "total_swings = dft[dft['PitchCall'].isin(['StrikeSwinging','FoulBall','InPlay'])].groupby(['Pitcher','TaggedPitchType']).size()\n",
    "#remove pitchers with less than 50 total swings\n",
    "total_pitches = total_pitches[total_pitches > 50]\n",
    "#total_swings = total_swings[total_swings > 20]\n",
    "#only show fastballs\n",
    "#total_swings = total_swings[total_swings.index.get_level_values('TaggedPitchType') == 'Slider']\n",
    "\n",
    "#calculate the whiff percentage\n",
    "whiff_percentages = (whiffs / total_swings) * 100\n",
    "whiff_percentages = whiff_percentages.fillna(0)\n",
    "\n",
    "#calculate the called strike percentage\n",
    "called_percentages = (called / total_pitches) * 100\n",
    "called_percentages = called_percentages.fillna(0)\n",
    "\n",
    "\n",
    "#CSW\n",
    "csw = (whiffs + called) / total_pitches * 100\n",
    "csw = csw.fillna(0)\n",
    "\n",
    "\n",
    "\n",
    "\n"
   ]
  },
  {
   "cell_type": "code",
   "execution_count": 7,
   "metadata": {},
   "outputs": [],
   "source": [
    "#make a dataframe with the called percentages\n",
    "dfc = pd.DataFrame(called_percentages)\n",
    "#rename the column\n",
    "dfc.columns = ['CalledStrike%']\n",
    "#reset the index\n",
    "dfc = dfc.reset_index()\n"
   ]
  },
  {
   "cell_type": "code",
   "execution_count": 8,
   "metadata": {},
   "outputs": [],
   "source": [
    "#make a new dataframe with the whiff percentages as a column\n",
    "dfw = pd.DataFrame(whiff_percentages)\n",
    "#reset the index\n",
    "dfw = dfw.reset_index()\n",
    "#rename the column\n",
    "dfw = dfw.rename(columns={0:'Whiff%'})\n",
    "#sort the values\n",
    "dfw = dfw.sort_values(by='Whiff%', ascending=False)\n"
   ]
  },
  {
   "cell_type": "code",
   "execution_count": 9,
   "metadata": {},
   "outputs": [],
   "source": [
    "#create a new dataframe from DF that find the averages of each pitch type by 'SpinRate', 'RelSpeed','TaggedPitchType','SpinRate','HorzBreak','InducedVertBreak'\n",
    "dfavg = dft.groupby(['Pitcher','PitcherTeam','TaggedPitchType']).mean()\n",
    "dfavg = dfavg.reset_index()\n",
    "\n",
    "\n"
   ]
  },
  {
   "cell_type": "code",
   "execution_count": 10,
   "metadata": {},
   "outputs": [],
   "source": [
    "#combine the two dataframes\n",
    "dfw = pd.merge(dfw, dfavg, on=['Pitcher','TaggedPitchType'])\n",
    "#remove spinrate and whiff\n",
    "dfw = dfw.drop(['SpinRate','Whiff'], axis=1)\n",
    "\n",
    "#move whiff percentage to the back\n",
    "dfw = dfw[['Pitcher','PitcherTeam','TaggedPitchType','RelSpeed','RelHeight','HorzBreak','InducedVertBreak','Whiff%']]\n",
    "\n",
    "#sort the values\n",
    "\n"
   ]
  },
  {
   "cell_type": "code",
   "execution_count": 11,
   "metadata": {},
   "outputs": [],
   "source": [
    "#create new df with total pitches as a column\n",
    "dfp = pd.DataFrame(total_pitches)\n",
    "#reset the index\n",
    "dfp = dfp.reset_index()\n",
    "#rename the column\n",
    "dfp = dfp.rename(columns={0:'TotalPitches'})\n",
    "#sort the values\n",
    "\n"
   ]
  },
  {
   "cell_type": "code",
   "execution_count": 12,
   "metadata": {},
   "outputs": [],
   "source": [
    "#combine the two dataframes\n",
    "f_whiff = pd.merge(dfw, dfp, on=['Pitcher','TaggedPitchType'])\n",
    "\n",
    "\n",
    "#move whiff percentage to the back\n",
    "f_whiff = f_whiff[['Pitcher','PitcherTeam','TaggedPitchType','RelSpeed','RelHeight','HorzBreak','InducedVertBreak','Whiff%','TotalPitches']]\n"
   ]
  },
  {
   "cell_type": "code",
   "execution_count": 13,
   "metadata": {},
   "outputs": [],
   "source": [
    "#make a new datafram with csw percentages as a column\n",
    "dfcsw = pd.DataFrame(csw)\n",
    "#reset the index\n",
    "dfcsw = dfcsw.reset_index()\n",
    "#rename the column\n",
    "dfcsw = dfcsw.rename(columns={0:'CSW%'})\n"
   ]
  },
  {
   "cell_type": "code",
   "execution_count": 14,
   "metadata": {},
   "outputs": [],
   "source": [
    "#merge the two dataframes\n",
    "f_whiff = pd.merge(f_whiff, dfcsw, on=['Pitcher','TaggedPitchType'])\n"
   ]
  },
  {
   "cell_type": "code",
   "execution_count": 15,
   "metadata": {},
   "outputs": [],
   "source": [
    "#merge the called strike percentage\n",
    "final_whiff = pd.merge(f_whiff, dfc, on=['Pitcher','TaggedPitchType'])\n",
    "#add a column for CSW\n",
    "#final_whiff['CSW%'] = final_whiff['Whiff%'] + final_whiff['CalledStrike%']\n",
    "#move called strike percentage to the back\n",
    "\n",
    "final_whiff = final_whiff[['Pitcher','PitcherTeam','TaggedPitchType','RelSpeed','RelHeight','InducedVertBreak','HorzBreak','Whiff%','CalledStrike%','CSW%','TotalPitches']]\n",
    "#round the values\n",
    "final_whiff = final_whiff.round(2)\n",
    "#create a new column for rank\n",
    "\n",
    "\n",
    "\n",
    "\n"
   ]
  },
  {
   "cell_type": "code",
   "execution_count": 16,
   "metadata": {},
   "outputs": [],
   "source": [
    "#sort the values\n",
    "final_whiff = final_whiff.sort_values(by='CSW%', ascending=False)\n",
    "#final_whiff.head(20)"
   ]
  },
  {
   "cell_type": "code",
   "execution_count": 17,
   "metadata": {},
   "outputs": [],
   "source": [
    "#only show hyannis pitchers\n",
    "final_whiff = final_whiff[final_whiff['PitcherTeam'] == 'HYA_HAR']\n",
    "#final_whiff.head(20)"
   ]
  }
 ],
 "metadata": {
  "kernelspec": {
   "display_name": "base",
   "language": "python",
   "name": "python3"
  },
  "language_info": {
   "codemirror_mode": {
    "name": "ipython",
    "version": 3
   },
   "file_extension": ".py",
   "mimetype": "text/x-python",
   "name": "python",
   "nbconvert_exporter": "python",
   "pygments_lexer": "ipython3",
   "version": "3.9.13"
  },
  "orig_nbformat": 4
 },
 "nbformat": 4,
 "nbformat_minor": 2
}
